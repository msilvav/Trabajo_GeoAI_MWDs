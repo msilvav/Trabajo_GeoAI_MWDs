{
 "cells": [
  {
   "cell_type": "markdown",
   "metadata": {},
   "source": [
    "%conda install -c conda-forge torchgeo pytorch torchvision pycocotools\n",
    "%conda install -c anaconda scikit-learn"
   ]
  },
  {
   "cell_type": "code",
   "execution_count": 1,
   "metadata": {},
   "outputs": [],
   "source": [
    "import os\n",
    "import torch\n",
    "import numpy as np\n",
    "from torch.utils.data import DataLoader, random_split\n",
    "from torch import nn, optim\n",
    "import matplotlib.pyplot as plt\n",
    "from torchvision.transforms import functional as F\n",
    "from torchvision import transforms\n",
    "from torchvision.models.segmentation import deeplabv3_resnet50  # Modelo de segmentación\n",
    "from torchvision.models.detection import fasterrcnn_resnet50_fpn  # Modelo de detección de objetos\n",
    "from PIL import Image\n",
    "from pycocotools.coco import COCO\n",
    "from torchgeo.datasets import GeoDataset\n",
    "from torchvision.transforms import v2\n"
   ]
  },
  {
   "cell_type": "code",
   "execution_count": 2,
   "metadata": {},
   "outputs": [],
   "source": [
    "# Definir las transformaciones\n",
    "class MyTransform:\n",
    "    def __init__(self, size, mean=None, std=None):\n",
    "        self.size = size\n",
    "        self.transforms = transforms.Compose([\n",
    "            transforms.Resize(size=size),\n",
    "            transforms.RandomHorizontalFlip(p=0.5),\n",
    "            transforms.ToTensor(),\n",
    "            transforms.Normalize(mean=mean, std=std)\n",
    "        ])\n",
    "\n",
    "    def __call__(self, image, mask):\n",
    "        image = self.transforms(image)\n",
    "        mask = torch.as_tensor(np.array(mask), dtype=torch.long)\n",
    "        mask = F.resize(mask.unsqueeze(0), self.size, interpolation=F.InterpolationMode.NEAREST).squeeze(0)\n",
    "        return image, mask"
   ]
  },
  {
   "cell_type": "code",
   "execution_count": 3,
   "metadata": {},
   "outputs": [],
   "source": [
    "# Ajusta estos según tus rutas específicas\n",
    "PATH = \"/media/noobird/BE8A98BF8A98759D/Detecciones Pato/project-2-at-2024-06-17-17-54-839d4e00\"\n",
    "image_directory = '/media/noobird/BE8A98BF8A98759D/Detecciones Pato/project-2-at-2024-06-17-17-54-839d4e00/images'\n",
    "annotation_file = '/media/noobird/BE8A98BF8A98759D/Detecciones Pato/project-2-at-2024-06-17-17-54-839d4e00/result.json'\n",
    "\n",
    "# Valores normalizados para la media y la desviación estándar, divididos por 255\n",
    "mean = [91.99621190367168 / 255, 73.09062094549192 / 255, 58.631742679295435 / 255]\n",
    "std = [50.20243267251991 / 255, 43.23390063508137 / 255, 41.16937620251403 / 255]\n",
    "\n",
    "#Media de píxeles - Rojo: 91.99621190367168\n",
    "#Media de píxeles - Verde: 73.09062094549192\n",
    "#Media de píxeles - Azul: 58.631742679295435\n",
    "#Desviación estándar de píxeles - Rojo: 50.20243267251991\n",
    "#Desviación estándar de píxeles - Verde: 43.23390063508137\n",
    "#Desviación estándar de píxeles - Azul: 41.16937620251403º\n",
    "\n"
   ]
  },
  {
   "cell_type": "code",
   "execution_count": 4,
   "metadata": {},
   "outputs": [
    {
     "name": "stdout",
     "output_type": "stream",
     "text": [
      "8\n"
     ]
    }
   ],
   "source": [
    "num_workers = os.cpu_count()\n",
    "print(num_workers)\n",
    "num_workers = 4\n",
    "batch_size = 5\n",
    "num_epochs = 2\n",
    "n_classes = 3"
   ]
  },
  {
   "cell_type": "code",
   "execution_count": 5,
   "metadata": {},
   "outputs": [],
   "source": [
    "# Definir el dataset\n",
    "class TorchGeoCocoDetection(GeoDataset):\n",
    "    def __init__(self, root, annFile, transform=None):\n",
    "        self.coco = COCO(annFile)\n",
    "        self.ids = list(sorted(self.coco.imgs.keys()))\n",
    "        self.root = root\n",
    "        self.transform = transform\n",
    "\n",
    "    def __getitem__(self, index: int):\n",
    "        coco_id = self.ids[index]\n",
    "        coco_img = self.coco.loadImgs(coco_id)[0]\n",
    "        path = os.path.join(self.root, coco_img['file_name'])\n",
    "        img = Image.open(path).convert('RGB')\n",
    "\n",
    "        mask = np.zeros((coco_img['height'], coco_img['width']), dtype=np.uint8)\n",
    "        annIds = self.coco.getAnnIds(imgIds=coco_img['id'], iscrowd=None)\n",
    "        anns = self.coco.loadAnns(annIds)\n",
    "        for ann in anns:\n",
    "            mask += self.coco.annToMask(ann)\n",
    "\n",
    "        if self.transform:\n",
    "            img, mask = self.transform(img, mask)\n",
    "\n",
    "        return img, mask\n",
    "\n",
    "    def __len__(self):\n",
    "        return len(self.ids)"
   ]
  },
  {
   "cell_type": "code",
   "execution_count": 6,
   "metadata": {},
   "outputs": [
    {
     "name": "stdout",
     "output_type": "stream",
     "text": [
      "loading annotations into memory...\n",
      "Done (t=0.70s)\n",
      "creating index...\n",
      "index created!\n"
     ]
    }
   ],
   "source": [
    "input_size = (128, 128)  # Aumenta el tamaño si es necesario\n",
    "my_transform = MyTransform(size=input_size, mean=mean, std=std)\n",
    "coco_dataset = TorchGeoCocoDetection(root=image_directory, annFile=annotation_file, transform=my_transform)\n",
    "\n",
    "# Particionar el dataset\n",
    "total_size = len(coco_dataset)\n",
    "train_size = int(0.7 * total_size)\n",
    "val_size = total_size - train_size\n",
    "train_dataset, val_dataset = random_split(coco_dataset, [train_size, val_size])\n",
    "\n",
    "# Crear DataLoaders\n",
    "train_loader = DataLoader(train_dataset, num_workers=num_workers, batch_size=batch_size, shuffle=True, pin_memory=True)\n",
    "val_loader = DataLoader(val_dataset, num_workers=num_workers, batch_size=batch_size, shuffle=False, pin_memory=True)\n",
    "\n",
    "# Definir el dispositivo\n",
    "device = torch.device('cuda' if torch.cuda.is_available() else 'cpu')"
   ]
  },
  {
   "cell_type": "code",
   "execution_count": 7,
   "metadata": {},
   "outputs": [
    {
     "name": "stderr",
     "output_type": "stream",
     "text": [
      "/home/noobird/anaconda3/envs/torchgeo/lib/python3.12/site-packages/torchvision/models/_utils.py:208: UserWarning: The parameter 'pretrained' is deprecated since 0.13 and may be removed in the future, please use 'weights' instead.\n",
      "  warnings.warn(\n",
      "/home/noobird/anaconda3/envs/torchgeo/lib/python3.12/site-packages/torchvision/models/_utils.py:223: UserWarning: Arguments other than a weight enum or `None` for 'weights' are deprecated since 0.13 and may be removed in the future. The current behavior is equivalent to passing `weights=None`.\n",
      "  warnings.warn(msg)\n"
     ]
    }
   ],
   "source": [
    "# Elegir el modelo\n",
    "# Para segmentación semántica\n",
    "\n",
    "# Elegir el modelo\n",
    "model = deeplabv3_resnet50(pretrained=False, num_classes=n_classes).to(device)\n",
    "\n",
    "# Definir la función de pérdida y el optimizador\n",
    "criterion = nn.CrossEntropyLoss()\n",
    "optimizer = optim.Adam(model.parameters(), lr=1e-3)"
   ]
  },
  {
   "cell_type": "code",
   "execution_count": 8,
   "metadata": {},
   "outputs": [],
   "source": [
    "# Función para entrenar una época\n",
    "def train_one_epoch(model, train_loader, criterion, optimizer, device):\n",
    "    model.train()\n",
    "    running_loss = 0.0\n",
    "    for images, masks in train_loader:\n",
    "        images, masks = images.to(device), masks.to(device)\n",
    "        masks = masks.long()  # Asegura que las máscaras sean de tipo long\n",
    "\n",
    "        optimizer.zero_grad()\n",
    "        outputs = model(images)['out']  # Para DeepLabV3\n",
    "\n",
    "        # Asegúrate de que las máscaras tengan la misma forma que las salidas del modelo\n",
    "        if len(masks.shape) == 4:\n",
    "            masks = masks.squeeze(1)\n",
    "        \n",
    "        loss = criterion(outputs, masks)\n",
    "        loss.backward()\n",
    "        optimizer.step()\n",
    "        running_loss += loss.item()\n",
    "    return running_loss / len(train_loader)\n",
    "\n",
    "# Función para validar una época\n",
    "def validate(model, val_loader, criterion, device):\n",
    "    model.eval()\n",
    "    running_val_loss = 0.0\n",
    "    with torch.no_grad():\n",
    "        for images, masks in val_loader:\n",
    "            images, masks = images.to(device), masks.to(device)\n",
    "            masks = masks.long()\n",
    "            outputs = model(images)['out']  # Para DeepLabV3\n",
    "            \n",
    "            if len(masks.shape) == 4:\n",
    "                masks = masks.squeeze(1)\n",
    "            \n",
    "            loss = criterion(outputs, masks)\n",
    "            running_val_loss += loss.item()\n",
    "    return running_val_loss / len(val_loader)"
   ]
  },
  {
   "cell_type": "code",
   "execution_count": 9,
   "metadata": {},
   "outputs": [
    {
     "name": "stdout",
     "output_type": "stream",
     "text": [
      "Epoch 1/2, Training Loss: 0.11435345139192499, Validation Loss: 0.05224789859106143\n",
      "Model saved: Epoch 1, Validation Loss: 0.05224789859106143\n",
      "Epoch 2/2, Training Loss: 0.028892832389776257, Validation Loss: 0.025919402639071148\n",
      "Model saved: Epoch 2, Validation Loss: 0.025919402639071148\n"
     ]
    }
   ],
   "source": [
    "# Inicializar listas para almacenar las pérdidas\n",
    "train_losses = []\n",
    "val_losses = []\n",
    "\n",
    "# Bucle de entrenamiento y validación\n",
    "best_val_loss = float('inf')\n",
    "\n",
    "for epoch in range(num_epochs):\n",
    "    train_loss = train_one_epoch(model, train_loader, criterion, optimizer, device)\n",
    "    val_loss = validate(model, val_loader, criterion, device)\n",
    "    \n",
    "    train_losses.append(train_loss)\n",
    "    val_losses.append(val_loss)\n",
    "\n",
    "    print(f'Epoch {epoch+1}/{num_epochs}, Training Loss: {train_loss}, Validation Loss: {val_loss}')\n",
    "\n",
    "    if val_loss < best_val_loss:\n",
    "        best_val_loss = val_loss\n",
    "        torch.save(model.state_dict(), 'best_model.pth')\n",
    "        print(f'Model saved: Epoch {epoch+1}, Validation Loss: {val_loss}')"
   ]
  },
  {
   "cell_type": "code",
   "execution_count": 10,
   "metadata": {},
   "outputs": [
    {
     "data": {
      "image/png": "[encoded data removed]",
      "text/plain": [
       "<Figure size 1000x500 with 1 Axes>"
      ]
     },
     "metadata": {},
     "output_type": "display_data"
    }
   ],
   "source": [
    "# Graficar las pérdidas de entrenamiento y validación\n",
    "plt.figure(figsize=(10, 5))\n",
    "plt.plot(train_losses, label='Training Loss')\n",
    "plt.plot(val_losses, label='Validation Loss')\n",
    "plt.title('Training and Validation Losses')\n",
    "plt.xlabel('Epoch')\n",
    "plt.ylabel('Loss')\n",
    "plt.legend()\n",
    "plt.grid(True)\n",
    "plt.savefig('trainvalgraph.png', bbox_inches='tight')\n",
    "plt.show()"
   ]
  },
  {
   "cell_type": "code",
   "execution_count": 11,
   "metadata": {},
   "outputs": [
    {
     "name": "stdout",
     "output_type": "stream",
     "text": [
      "Accuracy: 0.9905012249946594, IoU: 0.7156961560249329\n",
      "Recall: 0.9102287888526917, Precision: 0.8747231960296631\n"
     ]
    }
   ],
   "source": [
    "def binary_accuracy(preds, target):\n",
    "    correct = (preds == target).float()\n",
    "    acc = correct.sum() / correct.numel()\n",
    "    return acc\n",
    "\n",
    "def iou_score(preds, target):\n",
    "    intersection = (preds & target).sum(dim=(1, 2))\n",
    "    union = (preds | target).sum(dim=(1, 2))\n",
    "    iou = (intersection + 1e-6) / (union + 1e-6)\n",
    "    return iou.mean()\n",
    "\n",
    "def recall(preds, target):\n",
    "    true_positive = (preds & target).sum()\n",
    "    actual_positive = target.sum()\n",
    "    rec = true_positive / (actual_positive + 1e-6)\n",
    "    return rec\n",
    "\n",
    "def precision(preds, target):\n",
    "    true_positive = (preds & target).sum()\n",
    "    predicted_positive = preds.sum()\n",
    "    prec = true_positive / (predicted_positive + 1e-6)\n",
    "    return prec\n",
    "\n",
    "def evaluate_model(model, loader, device):\n",
    "    model.eval()\n",
    "    with torch.no_grad():\n",
    "        all_accuracy, all_iou, all_recall, all_precision = [], [], [], []\n",
    "        for images, masks in loader:\n",
    "            images = images.to(device)\n",
    "            masks = masks.to(device).long()\n",
    "            \n",
    "            outputs = model(images)['out']\n",
    "            outputs = torch.sigmoid(outputs)\n",
    "            outputs = torch.argmax(outputs, dim=1)\n",
    "            \n",
    "            if outputs.shape != masks.shape:\n",
    "                masks = masks.squeeze(1)\n",
    "                \n",
    "            all_accuracy.append(binary_accuracy(outputs, masks))\n",
    "            all_iou.append(iou_score(outputs, masks))\n",
    "            all_recall.append(recall(outputs, masks))\n",
    "            all_precision.append(precision(outputs, masks))\n",
    "        \n",
    "        mean_accuracy = torch.mean(torch.stack(all_accuracy)).item()\n",
    "        mean_iou = torch.mean(torch.stack(all_iou)).item()\n",
    "        mean_recall = torch.mean(torch.stack(all_recall)).item()\n",
    "        mean_precision = torch.mean(torch.stack(all_precision)).item()\n",
    "        \n",
    "        print(f'Accuracy: {mean_accuracy}, IoU: {mean_iou}')\n",
    "        print(f'Recall: {mean_recall}, Precision: {mean_precision}')\n",
    "        \n",
    "    return mean_accuracy, mean_iou, mean_recall, mean_precision\n",
    "\n",
    "# Llamar a la función de evaluación para el loader de validación o prueba\n",
    "mean_accuracy, mean_iou, mean_recall, mean_precision = evaluate_model(model, val_loader, device)\n"
   ]
  },
  {
   "cell_type": "code",
   "execution_count": 12,
   "metadata": {},
   "outputs": [
    {
     "name": "stdout",
     "output_type": "stream",
     "text": [
      "Mean Accuracy: 0.6378527879714966, Mean IoU: 0.6008716821670532\n",
      "Mean Recall: 0.6378527283668518, Mean Precision: 0.623142421245575\n",
      "Per-Class Precision: tensor([0.9959, 0.8736, 0.0000])\n"
     ]
    },
    {
     "data": {
      "image/png": "[encoded data removed]",
      "text/plain": [
       "<Figure size 640x480 with 2 Axes>"
      ]
     },
     "metadata": {},
     "output_type": "display_data"
    }
   ],
   "source": [
    "import torch\n",
    "import numpy as np\n",
    "from sklearn.metrics import confusion_matrix, ConfusionMatrixDisplay\n",
    "import matplotlib.pyplot as plt\n",
    "\n",
    "def per_class_accuracy(preds, target, num_classes):\n",
    "    acc = []\n",
    "    for cls in range(num_classes):\n",
    "        cls_pred = (preds == cls)\n",
    "        cls_target = (target == cls)\n",
    "        correct = (cls_pred & cls_target).sum().float()\n",
    "        total = cls_target.sum().float()\n",
    "        acc.append(correct / (total + 1e-6))\n",
    "    return torch.tensor(acc)\n",
    "\n",
    "def iou_score(preds, target, num_classes):\n",
    "    iou = []\n",
    "    for cls in range(num_classes):\n",
    "        cls_pred = (preds == cls)\n",
    "        cls_target = (target == cls)\n",
    "        intersection = (cls_pred & cls_target).sum().float()\n",
    "        union = (cls_pred | cls_target).sum().float()\n",
    "        iou.append(intersection / (union + 1e-6))\n",
    "    return torch.tensor(iou).mean()\n",
    "\n",
    "def recall(preds, target, num_classes):\n",
    "    recall = []\n",
    "    for cls in range(num_classes):\n",
    "        cls_pred = (preds == cls)\n",
    "        cls_target = (target == cls)\n",
    "        true_positive = (cls_pred & cls_target).sum().float()\n",
    "        actual_positive = cls_target.sum().float()\n",
    "        recall.append(true_positive / (actual_positive + 1e-6))\n",
    "    return torch.tensor(recall).mean()\n",
    "\n",
    "def precision(preds, target, num_classes):\n",
    "    precision = []\n",
    "    for cls in range(num_classes):\n",
    "        cls_pred = (preds == cls)\n",
    "        cls_target = (target == cls)\n",
    "        true_positive = (cls_pred & cls_target).sum().float()\n",
    "        predicted_positive = cls_pred.sum().float()\n",
    "        precision.append(true_positive / (predicted_positive + 1e-6))\n",
    "    return torch.tensor(precision)\n",
    "\n",
    "def evaluate_model(model, loader, device, num_classes):\n",
    "    model.eval()\n",
    "    all_preds, all_masks = [], []\n",
    "    with torch.no_grad():\n",
    "        all_accuracy, all_iou, all_recall, all_precision = [], [], [], []\n",
    "        for images, masks in loader:\n",
    "            images = images.to(device)\n",
    "            masks = masks.to(device).long()\n",
    "            \n",
    "            outputs = model(images)['out']\n",
    "            outputs = torch.softmax(outputs, dim=1)  # Aplica softmax para convertir a probabilidades\n",
    "            preds = torch.argmax(outputs, dim=1)  # Convertimos a clase más probable\n",
    "            \n",
    "            if preds.shape != masks.shape:\n",
    "                masks = masks.squeeze(1)\n",
    "                \n",
    "            all_preds.append(preds.cpu().numpy())\n",
    "            all_masks.append(masks.cpu().numpy())\n",
    "            \n",
    "            all_accuracy.append(per_class_accuracy(preds, masks, num_classes))\n",
    "            all_iou.append(iou_score(preds, masks, num_classes))\n",
    "            all_recall.append(recall(preds, masks, num_classes))\n",
    "            all_precision.append(precision(preds, masks, num_classes))\n",
    "        \n",
    "        mean_accuracy = torch.mean(torch.stack(all_accuracy)).item()\n",
    "        mean_iou = torch.mean(torch.stack(all_iou)).item()\n",
    "        mean_recall = torch.mean(torch.stack(all_recall)).item()\n",
    "        mean_precision = torch.mean(torch.stack(all_precision)).item()\n",
    "        \n",
    "        print(f'Mean Accuracy: {mean_accuracy}, Mean IoU: {mean_iou}')\n",
    "        print(f'Mean Recall: {mean_recall}, Mean Precision: {mean_precision}')\n",
    "        \n",
    "        per_class_precisions = torch.mean(torch.stack(all_precision), dim=0)\n",
    "        print(f'Per-Class Precision: {per_class_precisions}')\n",
    "\n",
    "        all_preds = np.concatenate(all_preds).flatten()\n",
    "        all_masks = np.concatenate(all_masks).flatten()\n",
    "        cm = confusion_matrix(all_masks, all_preds, labels=range(num_classes))\n",
    "        disp = ConfusionMatrixDisplay(confusion_matrix=cm, display_labels=range(num_classes))\n",
    "        disp.plot(cmap=plt.cm.Blues)\n",
    "        plt.show()\n",
    "        \n",
    "    return mean_accuracy, mean_iou, mean_recall, mean_precision, per_class_precisions\n",
    "\n",
    "# Llamar a la función de evaluación para el loader de validación o prueba\n",
    "num_classes = n_classes\n",
    "mean_accuracy, mean_iou, mean_recall, mean_precision, per_class_precisions = evaluate_model(model, val_loader, device, num_classes)\n"
   ]
  }
 ],
 "metadata": {
  "kernelspec": {
   "display_name": "torchgeo",
   "language": "python",
   "name": "python3"
  },
  "language_info": {
   "codemirror_mode": {
    "name": "ipython",
    "version": 3
   },
   "file_extension": ".py",
   "mimetype": "text/x-python",
   "name": "python",
   "nbconvert_exporter": "python",
   "pygments_lexer": "ipython3",
   "version": "3.12.4"
  }
 },
 "nbformat": 4,
 "nbformat_minor": 2
}
