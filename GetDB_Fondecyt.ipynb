{
 "cells": [
  {
   "cell_type": "markdown",
   "id": "222bf516-dbcd-4f78-8700-61984a9f093c",
   "metadata": {},
   "source": [
    "# Configuracion\n",
    "\n",
    "Estos primeros bloques son de importar librerías, y configurar las credenciales de la API para poder descargar"
   ]
  },
  {
   "cell_type": "code",
   "execution_count": null,
   "id": "57141d98",
   "metadata": {},
   "outputs": [],
   "source": [
    "# Codificación Rodrigo Pereira\n",
    "# rodrigo.pereira.r@mail.pucv.cl\n",
    "# Laboratorio de Robótica y Visión, EIE PUCV"
   ]
  },
  {
   "cell_type": "code",
   "execution_count": 1,
   "id": "b89ea3e2-47a9-4d86-ac8e-69ea670775ad",
   "metadata": {},
   "outputs": [
    {
     "name": "stderr",
     "output_type": "stream",
     "text": [
      "/home/noobird/anaconda3/envs/fondecyt/lib/python3.12/site-packages/tqdm/auto.py:21: TqdmWarning: IProgress not found. Please update jupyter and ipywidgets. See https://ipywidgets.readthedocs.io/en/stable/user_install.html\n",
      "  from .autonotebook import tqdm as notebook_tqdm\n"
     ]
    }
   ],
   "source": [
    "# Importar librerías\n",
    "import os\n",
    "import datetime\n",
    "import numpy as np\n",
    "import matplotlib.pyplot as plt\n",
    "import pandas as pd\n",
    "import requests\n",
    "import matplotlib.pyplot as plt\n",
    "import matplotlib.image as mpimg\n",
    "from PIL import Image  \n",
    "import PIL  \n",
    "from sentinelhub import (SHConfig, DataCollection, SentinelHubCatalog, SentinelHubRequest, BBox, bbox_to_dimensions, CRS, MimeType, Geometry)"
   ]
  },
  {
   "cell_type": "code",
   "execution_count": 2,
   "id": "91252198-c2ad-44d7-9ffa-792fae49d820",
   "metadata": {},
   "outputs": [],
   "source": [
    "from sentinelhub import (\n",
    "    CRS,\n",
    "    BBox,\n",
    "    DataCollection,\n",
    "    DownloadRequest,\n",
    "    MimeType,\n",
    "    MosaickingOrder,\n",
    "    SentinelHubDownloadClient,\n",
    "    SentinelHubRequest,\n",
    "    bbox_to_dimensions,\n",
    ")"
   ]
  },
  {
   "cell_type": "code",
   "execution_count": 3,
   "id": "d273696c-c918-463b-862f-cd6165aaf1b4",
   "metadata": {},
   "outputs": [],
   "source": [
    "config = SHConfig()\n",
    "\n",
    "# Ingresar client id\n",
    "config.sh_client_id = \"\"\n",
    "# Ingresar client secret \n",
    "config.sh_client_secret = \"\"\n",
    "config.sh_token_url = \"https://identity.dataspace.copernicus.eu/auth/realms/CDSE/protocol/openid-connect/token\"\n",
    "config.sh_base_url = \"https://sh.dataspace.copernicus.eu\"\n",
    "config.save(\"cdse\")\n",
    "\n",
    "config = SHConfig(\"cdse\")"
   ]
  },
  {
   "cell_type": "markdown",
   "id": "631d5c03-8bc7-4577-9c86-aedd0856de7a",
   "metadata": {},
   "source": [
    "# Area\n",
    "\n",
    "Estos bloques son para asignar el área geográfica para descargar. Son Bounding Boxs rectangulares con las coordenadas WGS84\n",
    "\n",
    "El formato es: Coordenadas Esquina Inferior Izquierda, Coordenadas Esquina Superior Derecha\n",
    "\n",
    "Se elige también la resolución en metros/pixel y se muestra el tamaño (resolución en pixeles) aproximado de la imagen a descargar. \n",
    "\n",
    "> LA API NO ADMITE TAMAÑOS DE IMÁGENES MAYORES A 2500 PIXELES DE ALTO O ANCHO\n",
    "\n",
    "Las coordenadas están hechas de tal forma que ninguna imagen queda mayor a 2500 pixles por ningún lado."
   ]
  },
  {
   "cell_type": "code",
   "execution_count": 4,
   "id": "6a25ac71-ef87-4325-8d97-516703d9cfe0",
   "metadata": {},
   "outputs": [
    {
     "ename": "FileNotFoundError",
     "evalue": "[Errno 2] No such file or directory: 'dbCoordenadas.xlsx'",
     "output_type": "error",
     "traceback": [
      "\u001b[0;31m---------------------------------------------------------------------------\u001b[0m",
      "\u001b[0;31mFileNotFoundError\u001b[0m                         Traceback (most recent call last)",
      "Cell \u001b[0;32mIn[4], line 7\u001b[0m\n\u001b[1;32m      5\u001b[0m \u001b[38;5;66;03m# Read the specific column from the Excel file into a DataFrame\u001b[39;00m\n\u001b[1;32m      6\u001b[0m column_name \u001b[38;5;241m=\u001b[39m \u001b[38;5;124m'\u001b[39m\u001b[38;5;124mB\u001b[39m\u001b[38;5;124m'\u001b[39m  \u001b[38;5;66;03m# Replace 'A' with the column letter or name you want to read\u001b[39;00m\n\u001b[0;32m----> 7\u001b[0m df \u001b[38;5;241m=\u001b[39m pd\u001b[38;5;241m.\u001b[39mread_excel(excel_file, sheet_name\u001b[38;5;241m=\u001b[39msheet_name, usecols\u001b[38;5;241m=\u001b[39mcolumn_name)\n\u001b[1;32m      9\u001b[0m df[\u001b[38;5;124m'\u001b[39m\u001b[38;5;124mBbox\u001b[39m\u001b[38;5;124m'\u001b[39m] \u001b[38;5;241m=\u001b[39m df[\u001b[38;5;124m'\u001b[39m\u001b[38;5;124mBbox\u001b[39m\u001b[38;5;124m'\u001b[39m]\u001b[38;5;241m.\u001b[39mstr\u001b[38;5;241m.\u001b[39mslice(start\u001b[38;5;241m=\u001b[39m\u001b[38;5;241m7\u001b[39m)\n\u001b[1;32m     10\u001b[0m df[\u001b[38;5;124m'\u001b[39m\u001b[38;5;124mBbox\u001b[39m\u001b[38;5;124m'\u001b[39m] \u001b[38;5;241m=\u001b[39m df[\u001b[38;5;124m'\u001b[39m\u001b[38;5;124mBbox\u001b[39m\u001b[38;5;124m'\u001b[39m]\u001b[38;5;241m.\u001b[39mstr[:\u001b[38;5;241m-\u001b[39m\u001b[38;5;241m1\u001b[39m]\n",
      "File \u001b[0;32m~/anaconda3/envs/fondecyt/lib/python3.12/site-packages/pandas/io/excel/_base.py:495\u001b[0m, in \u001b[0;36mread_excel\u001b[0;34m(io, sheet_name, header, names, index_col, usecols, dtype, engine, converters, true_values, false_values, skiprows, nrows, na_values, keep_default_na, na_filter, verbose, parse_dates, date_parser, date_format, thousands, decimal, comment, skipfooter, storage_options, dtype_backend, engine_kwargs)\u001b[0m\n\u001b[1;32m    493\u001b[0m \u001b[38;5;28;01mif\u001b[39;00m \u001b[38;5;129;01mnot\u001b[39;00m \u001b[38;5;28misinstance\u001b[39m(io, ExcelFile):\n\u001b[1;32m    494\u001b[0m     should_close \u001b[38;5;241m=\u001b[39m \u001b[38;5;28;01mTrue\u001b[39;00m\n\u001b[0;32m--> 495\u001b[0m     io \u001b[38;5;241m=\u001b[39m ExcelFile(\n\u001b[1;32m    496\u001b[0m         io,\n\u001b[1;32m    497\u001b[0m         storage_options\u001b[38;5;241m=\u001b[39mstorage_options,\n\u001b[1;32m    498\u001b[0m         engine\u001b[38;5;241m=\u001b[39mengine,\n\u001b[1;32m    499\u001b[0m         engine_kwargs\u001b[38;5;241m=\u001b[39mengine_kwargs,\n\u001b[1;32m    500\u001b[0m     )\n\u001b[1;32m    501\u001b[0m \u001b[38;5;28;01melif\u001b[39;00m engine \u001b[38;5;129;01mand\u001b[39;00m engine \u001b[38;5;241m!=\u001b[39m io\u001b[38;5;241m.\u001b[39mengine:\n\u001b[1;32m    502\u001b[0m     \u001b[38;5;28;01mraise\u001b[39;00m \u001b[38;5;167;01mValueError\u001b[39;00m(\n\u001b[1;32m    503\u001b[0m         \u001b[38;5;124m\"\u001b[39m\u001b[38;5;124mEngine should not be specified when passing \u001b[39m\u001b[38;5;124m\"\u001b[39m\n\u001b[1;32m    504\u001b[0m         \u001b[38;5;124m\"\u001b[39m\u001b[38;5;124man ExcelFile - ExcelFile already has the engine set\u001b[39m\u001b[38;5;124m\"\u001b[39m\n\u001b[1;32m    505\u001b[0m     )\n",
      "File \u001b[0;32m~/anaconda3/envs/fondecyt/lib/python3.12/site-packages/pandas/io/excel/_base.py:1550\u001b[0m, in \u001b[0;36mExcelFile.__init__\u001b[0;34m(self, path_or_buffer, engine, storage_options, engine_kwargs)\u001b[0m\n\u001b[1;32m   1548\u001b[0m     ext \u001b[38;5;241m=\u001b[39m \u001b[38;5;124m\"\u001b[39m\u001b[38;5;124mxls\u001b[39m\u001b[38;5;124m\"\u001b[39m\n\u001b[1;32m   1549\u001b[0m \u001b[38;5;28;01melse\u001b[39;00m:\n\u001b[0;32m-> 1550\u001b[0m     ext \u001b[38;5;241m=\u001b[39m inspect_excel_format(\n\u001b[1;32m   1551\u001b[0m         content_or_path\u001b[38;5;241m=\u001b[39mpath_or_buffer, storage_options\u001b[38;5;241m=\u001b[39mstorage_options\n\u001b[1;32m   1552\u001b[0m     )\n\u001b[1;32m   1553\u001b[0m     \u001b[38;5;28;01mif\u001b[39;00m ext \u001b[38;5;129;01mis\u001b[39;00m \u001b[38;5;28;01mNone\u001b[39;00m:\n\u001b[1;32m   1554\u001b[0m         \u001b[38;5;28;01mraise\u001b[39;00m \u001b[38;5;167;01mValueError\u001b[39;00m(\n\u001b[1;32m   1555\u001b[0m             \u001b[38;5;124m\"\u001b[39m\u001b[38;5;124mExcel file format cannot be determined, you must specify \u001b[39m\u001b[38;5;124m\"\u001b[39m\n\u001b[1;32m   1556\u001b[0m             \u001b[38;5;124m\"\u001b[39m\u001b[38;5;124man engine manually.\u001b[39m\u001b[38;5;124m\"\u001b[39m\n\u001b[1;32m   1557\u001b[0m         )\n",
      "File \u001b[0;32m~/anaconda3/envs/fondecyt/lib/python3.12/site-packages/pandas/io/excel/_base.py:1402\u001b[0m, in \u001b[0;36minspect_excel_format\u001b[0;34m(content_or_path, storage_options)\u001b[0m\n\u001b[1;32m   1399\u001b[0m \u001b[38;5;28;01mif\u001b[39;00m \u001b[38;5;28misinstance\u001b[39m(content_or_path, \u001b[38;5;28mbytes\u001b[39m):\n\u001b[1;32m   1400\u001b[0m     content_or_path \u001b[38;5;241m=\u001b[39m BytesIO(content_or_path)\n\u001b[0;32m-> 1402\u001b[0m \u001b[38;5;28;01mwith\u001b[39;00m get_handle(\n\u001b[1;32m   1403\u001b[0m     content_or_path, \u001b[38;5;124m\"\u001b[39m\u001b[38;5;124mrb\u001b[39m\u001b[38;5;124m\"\u001b[39m, storage_options\u001b[38;5;241m=\u001b[39mstorage_options, is_text\u001b[38;5;241m=\u001b[39m\u001b[38;5;28;01mFalse\u001b[39;00m\n\u001b[1;32m   1404\u001b[0m ) \u001b[38;5;28;01mas\u001b[39;00m handle:\n\u001b[1;32m   1405\u001b[0m     stream \u001b[38;5;241m=\u001b[39m handle\u001b[38;5;241m.\u001b[39mhandle\n\u001b[1;32m   1406\u001b[0m     stream\u001b[38;5;241m.\u001b[39mseek(\u001b[38;5;241m0\u001b[39m)\n",
      "File \u001b[0;32m~/anaconda3/envs/fondecyt/lib/python3.12/site-packages/pandas/io/common.py:882\u001b[0m, in \u001b[0;36mget_handle\u001b[0;34m(path_or_buf, mode, encoding, compression, memory_map, is_text, errors, storage_options)\u001b[0m\n\u001b[1;32m    873\u001b[0m         handle \u001b[38;5;241m=\u001b[39m \u001b[38;5;28mopen\u001b[39m(\n\u001b[1;32m    874\u001b[0m             handle,\n\u001b[1;32m    875\u001b[0m             ioargs\u001b[38;5;241m.\u001b[39mmode,\n\u001b[0;32m   (...)\u001b[0m\n\u001b[1;32m    878\u001b[0m             newline\u001b[38;5;241m=\u001b[39m\u001b[38;5;124m\"\u001b[39m\u001b[38;5;124m\"\u001b[39m,\n\u001b[1;32m    879\u001b[0m         )\n\u001b[1;32m    880\u001b[0m     \u001b[38;5;28;01melse\u001b[39;00m:\n\u001b[1;32m    881\u001b[0m         \u001b[38;5;66;03m# Binary mode\u001b[39;00m\n\u001b[0;32m--> 882\u001b[0m         handle \u001b[38;5;241m=\u001b[39m \u001b[38;5;28mopen\u001b[39m(handle, ioargs\u001b[38;5;241m.\u001b[39mmode)\n\u001b[1;32m    883\u001b[0m     handles\u001b[38;5;241m.\u001b[39mappend(handle)\n\u001b[1;32m    885\u001b[0m \u001b[38;5;66;03m# Convert BytesIO or file objects passed with an encoding\u001b[39;00m\n",
      "\u001b[0;31mFileNotFoundError\u001b[0m: [Errno 2] No such file or directory: 'dbCoordenadas.xlsx'"
     ]
    }
   ],
   "source": [
    "# Specify the path to your Excel file and the name of the sheet\n",
    "excel_file = 'dbCoordenadas.xlsx'\n",
    "sheet_name = 'Sheet1'\n",
    "\n",
    "# Read the specific column from the Excel file into a DataFrame\n",
    "column_name = 'B'  # Replace 'A' with the column letter or name you want to read\n",
    "df = pd.read_excel(excel_file, sheet_name=sheet_name, usecols=column_name)\n",
    "\n",
    "df['Bbox'] = df['Bbox'].str.slice(start=7)\n",
    "df['Bbox'] = df['Bbox'].str[:-1]\n",
    "\n",
    "# Split the string numbers into multiple columns\n",
    "df[['longMin', 'latMin', 'longMax', 'latMax']] = df['Bbox'].str.split(',', expand=True)\n",
    "\n",
    "# Convert the new columns to numeric\n",
    "df[['longMin', 'latMin', 'longMax', 'latMax']] = df[['longMin', 'latMin', 'longMax', 'latMax']].apply(pd.to_numeric)\n",
    "\n",
    "# Drop the original column\n",
    "df.drop(columns=['Bbox'], inplace=True)\n",
    "\n",
    "\n",
    "listaDeListas = df.values.tolist()"
   ]
  },
  {
   "cell_type": "code",
   "execution_count": null,
   "id": "a3bd87fe-49d1-415a-ac0e-194dc0c3f325",
   "metadata": {},
   "outputs": [],
   "source": [
    "for coordenadas in listaDeListas:\n",
    "\n",
    "    resolution = 10\n",
    "    aoi_bbox = BBox(bbox=coordenadas, crs=CRS.WGS84)\n",
    "    aoi_size = bbox_to_dimensions(aoi_bbox, resolution=resolution)\n",
    "    \n",
    "    print(f'Image shape at {coordenadas} m resolution: {aoi_size} pixels')\n",
    "    if aoi_size[0] > 2500 or aoi_size[1] > 2500:\n",
    "        print(f'Image shape at {coordenadas} m resolution: {aoi_size} pixels')"
   ]
  },
  {
   "cell_type": "markdown",
   "id": "816e5ab0-06ac-4c24-bfcd-75ee7a651358",
   "metadata": {},
   "source": [
    "# Scripts\n",
    "\n",
    "Estos scripts se usan para descirle a la API lo que tiene que descargar.\n",
    "\n",
    "En este caso, son Todas las bandas del satelite."
   ]
  },
  {
   "cell_type": "code",
   "execution_count": null,
   "id": "1fb08e63-0a49-4f06-b43f-f319c9f4b939",
   "metadata": {},
   "outputs": [],
   "source": [
    "# Script todo\n",
    "\n",
    "evalscriptAllBands = \"\"\"\n",
    "//VERSION=3\n",
    "function setup() {\n",
    "  return {\n",
    "    input: [\n",
    "      {\n",
    "        bands: [\n",
    "          \"B01\",\n",
    "          \"B02\",\n",
    "          \"B03\",\n",
    "          \"B04\",\n",
    "          \"B05\",\n",
    "          \"B06\",\n",
    "          \"B07\",\n",
    "          \"B08\",\n",
    "          \"B8A\",\n",
    "          \"B09\",\n",
    "          \"B11\",\n",
    "          \"B12\",\n",
    "        ],\n",
    "        units: \"DN\",\n",
    "      },\n",
    "    ],\n",
    "    output: {\n",
    "      id: \"default\",\n",
    "      bands: 12,\n",
    "      sampleType: SampleType.UINT16,\n",
    "    },\n",
    "  }\n",
    "}\n",
    "\n",
    "function evaluatePixel(sample) {\n",
    "  return [\n",
    "    sample.B01,\n",
    "    sample.B02,\n",
    "    sample.B03,\n",
    "    sample.B04,\n",
    "    sample.B05,\n",
    "    sample.B06,\n",
    "    sample.B07,\n",
    "    sample.B08,\n",
    "    sample.B8A,\n",
    "    sample.B09,\n",
    "    sample.B11,\n",
    "    sample.B12,\n",
    "  ]\n",
    "}\n",
    "\"\"\""
   ]
  },
  {
   "cell_type": "markdown",
   "id": "42bcb99d-4a25-49dc-8341-7b54fa4efc2b",
   "metadata": {},
   "source": [
    "# Rango de Tiempo\n",
    "Este bloque determina el rango de tiempo a descargar. Originalmente está en 2019, 1, 1 - 2024, 4,3\n",
    "Se deben definir cuántas imágenes descargar en dicho tiempo, por ejemplo 50 imágenes entre el 2019 - 2024"
   ]
  },
  {
   "cell_type": "code",
   "execution_count": null,
   "id": "239a0ba1-ea9f-4a0b-b3da-68a1a5ec5a2f",
   "metadata": {},
   "outputs": [],
   "source": [
    "start = datetime.datetime(2019, 1, 1)\n",
    "end = datetime.datetime(2024, 4, 3)\n",
    "n_chunks = 50\n",
    "tdelta = (end - start) / n_chunks\n",
    "edges = [(start + i * tdelta).date().isoformat() for i in range(n_chunks+1)]\n",
    "slots = [(edges[i], edges[i + 1]) for i in range(len(edges) - 1)]\n",
    "\n",
    "print(\"Monthly time windows:\\n\")\n",
    "for slot in slots:\n",
    "    print(slot)"
   ]
  },
  {
   "cell_type": "markdown",
   "id": "784e5c95-733f-40c0-b817-6a7fd066efd3",
   "metadata": {},
   "source": [
    "# Descargar\n",
    "El primer bloque es para procesamiento de imágenes.\n",
    "El factor es principalmente para el brillo de la imagen. Estaba originalmente en 2 / 1e4, que es un buen factor para el espectro visible."
   ]
  },
  {
   "cell_type": "code",
   "execution_count": null,
   "id": "4aef0b00-d9b6-48c9-8022-90a5cf297c29",
   "metadata": {
    "scrolled": true
   },
   "outputs": [],
   "source": [
    "factor = 2 / 1e4\n",
    "clipRange= (0, 1)"
   ]
  },
  {
   "cell_type": "code",
   "execution_count": null,
   "id": "a6d1c958-e66f-4b33-9a90-21d76edd314c",
   "metadata": {},
   "outputs": [],
   "source": [
    "for coordenadas in listaDeListas:\n",
    "\n",
    "    resolution = 10\n",
    "    aoi_bbox = BBox(bbox=coordenadas, crs=CRS.WGS84)\n",
    "    aoi_size = bbox_to_dimensions(aoi_bbox, resolution=resolution)\n",
    "\n",
    "    for slot in slots:\n",
    "        request_all_bands = SentinelHubRequest(\n",
    "                evalscript= evalscriptAllBands,\n",
    "                input_data=[\n",
    "                    SentinelHubRequest.input_data(\n",
    "                            data_collection=DataCollection.SENTINEL2_L2A.define_from(\n",
    "                                name=\"s2\", service_url=\"https://sh.dataspace.copernicus.eu\"\n",
    "                            ),\n",
    "                            time_interval=slot,\n",
    "                            other_args={\"dataFilter\": {\"mosaickingOrder\": \"leastCC\"}}           )\n",
    "                    ],\n",
    "                responses=[SentinelHubRequest.output_response(\"default\", MimeType.TIFF)],\n",
    "                bbox=aoi_bbox,\n",
    "                size=aoi_size,\n",
    "                config=config,\n",
    "            )\n",
    "        all_bands_img = request_all_bands.get_data()\n",
    "\n",
    "        # Carpetas\n",
    "        nombreCarpetas = f'{coordenadas}'\n",
    "\n",
    "        if not os.path.exists(nombreCarpetas):\n",
    "            os.makedirs(nombreCarpetas)\n",
    "    \n",
    "        # Bandas RAW sin procesar\n",
    "    \n",
    "        bandaB01 = (np.clip(all_bands_img[0][:,:,0]*factor,*clipRange))*255\n",
    "        bandaB01 = bandaB01.astype(np.uint8)\n",
    "        bandaB01 = Image.fromarray(bandaB01)\n",
    "        bandaB01.save(f'{nombreCarpetas}/{slot} B01.png')\n",
    "    \n",
    "        bandaB02 = (np.clip(all_bands_img[0][:,:,1]*factor,*clipRange))*255\n",
    "        bandaB02 = bandaB02.astype(np.uint8)\n",
    "        bandaB02 = Image.fromarray(bandaB02)\n",
    "        bandaB02.save(f'{nombreCarpetas}/{slot} B02.png')\n",
    "    \n",
    "        bandaB03 = (np.clip(all_bands_img[0][:,:,2]*factor,*clipRange))*255\n",
    "        bandaB03 = bandaB03.astype(np.uint8)\n",
    "        bandaB03 = Image.fromarray(bandaB03)\n",
    "        bandaB03.save(f'{nombreCarpetas}/{slot} B03.png')\n",
    "    \n",
    "        bandaB04 = (np.clip(all_bands_img[0][:,:,3]*factor,*clipRange))*255\n",
    "        bandaB04 = bandaB04.astype(np.uint8)\n",
    "        bandaB04 = Image.fromarray(bandaB04)\n",
    "        bandaB04.save(f'{nombreCarpetas}/{slot} B04.png')\n",
    "    \n",
    "        bandaB05 = (np.clip(all_bands_img[0][:,:,4]*factor,*clipRange))*255\n",
    "        bandaB05 = bandaB05.astype(np.uint8)\n",
    "        bandaB05 = Image.fromarray(bandaB05)\n",
    "        bandaB05.save(f'{nombreCarpetas}/{slot} B05.png')\n",
    "    \n",
    "        bandaB06 = (np.clip(all_bands_img[0][:,:,5]*factor,*clipRange))*255\n",
    "        bandaB06 = bandaB06.astype(np.uint8)\n",
    "        bandaB06 = Image.fromarray(bandaB06)\n",
    "        bandaB06.save(f'{nombreCarpetas}/{slot} B06.png')\n",
    "    \n",
    "        bandaB07 = (np.clip(all_bands_img[0][:,:,6]*factor,*clipRange))*255\n",
    "        bandaB07 = bandaB07.astype(np.uint8)\n",
    "        bandaB07 = Image.fromarray(bandaB07)\n",
    "        bandaB07.save(f'{nombreCarpetas}/{slot} B07.png')\n",
    "    \n",
    "        bandaB08 = (np.clip(all_bands_img[0][:,:,7]*factor,*clipRange))*255\n",
    "        bandaB08 = bandaB08.astype(np.uint8)\n",
    "        bandaB08 = Image.fromarray(bandaB08)\n",
    "        bandaB08.save(f'{nombreCarpetas}/{slot} B08.png')\n",
    "    \n",
    "        bandaB8A = (np.clip(all_bands_img[0][:,:,8]*factor,*clipRange))*255\n",
    "        bandaB8A = bandaB8A.astype(np.uint8)\n",
    "        bandaB8A = Image.fromarray(bandaB8A)\n",
    "        bandaB8A.save(f'{nombreCarpetas}/{slot} B8A.png')\n",
    "    \n",
    "        bandaB09 = (np.clip(all_bands_img[0][:,:,9]*factor,*clipRange))*255\n",
    "        bandaB09 = bandaB09.astype(np.uint8)\n",
    "        bandaB09 = Image.fromarray(bandaB09)\n",
    "        bandaB09.save(f'{nombreCarpetas}/{slot} B09.png')\n",
    "    \n",
    "        bandaB11 = (np.clip(all_bands_img[0][:,:,10]*factor,*clipRange))*255\n",
    "        bandaB11 = bandaB11.astype(np.uint8)\n",
    "        bandaB11 = Image.fromarray(bandaB11)\n",
    "        bandaB11.save(f'{nombreCarpetas}/{slot} B11.png')\n",
    "    \n",
    "        bandaB12 = (np.clip(all_bands_img[0][:,:,11]*factor,*clipRange))*255\n",
    "        bandaB12 = bandaB12.astype(np.uint8)\n",
    "        bandaB12 = Image.fromarray(bandaB12)\n",
    "        bandaB12.save(f'{nombreCarpetas}/{slot} B12.png')\n",
    "    \n",
    "    \n",
    "        # Bandas Procesadas\n",
    "    \n",
    "        trueColor = (np.clip(all_bands_img[0][:,:,[3,2,1]]*factor,*clipRange))*255\n",
    "        trueColor = trueColor.astype(np.uint8)\n",
    "        trueColor = Image.fromarray(trueColor)\n",
    "        trueColor.save(f'{nombreCarpetas}/{slot} - trueColor.png')\n",
    "    \n",
    "        #falseColor = (np.clip(all_bands_img[0][:,:,[7,3,2]]*factor,*clipRange))*255\n",
    "        #falseColor = falseColor.astype(np.uint8)\n",
    "        #falseColor = Image.fromarray(falseColor)\n",
    "        #falseColor.save(f'{slot} falseColor.png')\n",
    "\n",
    "\n"
   ]
  },
  {
   "cell_type": "code",
   "execution_count": null,
   "id": "53f84130-8535-4ab7-9a33-cd006c8ed8ec",
   "metadata": {},
   "outputs": [],
   "source": [
    "trueColor.save(f'{nombreCarpetas}/{slot} - trueColor.png')"
   ]
  }
 ],
 "metadata": {
  "kernelspec": {
   "display_name": "Python 3 (ipykernel)",
   "language": "python",
   "name": "python3"
  },
  "language_info": {
   "codemirror_mode": {
    "name": "ipython",
    "version": 3
   },
   "file_extension": ".py",
   "mimetype": "text/x-python",
   "name": "python",
   "nbconvert_exporter": "python",
   "pygments_lexer": "ipython3",
   "version": "3.8.10"
  }
 },
 "nbformat": 4,
 "nbformat_minor": 5
}
