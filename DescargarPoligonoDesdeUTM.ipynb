{
 "cells": [
  {
   "cell_type": "markdown",
   "metadata": {},
   "source": [
    "# FONDECYT\n",
    "## Codigo para la descarga de poligonos, desde coordenadas UTM\n",
    "### Manuel Silva manuel.silva@pucv.cl\n",
    "### Laboratorio de Robótica y Visión, EIE-PUCV"
   ]
  },
  {
   "cell_type": "markdown",
   "metadata": {},
   "source": [
    "## Celda 1: Importación de Módulos"
   ]
  },
  {
   "cell_type": "code",
   "execution_count": null,
   "metadata": {},
   "outputs": [],
   "source": [
    "# Instalar modulos necesarios\n",
    "%pip install eodag==2.12.1\n",
    "%pip install Shapely==2.0.3"
   ]
  },
  {
   "cell_type": "code",
   "execution_count": null,
   "metadata": {},
   "outputs": [],
   "source": [
    "# Importamos los módulos necesarios para ejecutar el código\n",
    "from eodag import EODataAccessGateway, setup_logging\n",
    "from shapely.geometry import Polygon"
   ]
  },
  {
   "cell_type": "markdown",
   "metadata": {},
   "source": [
    "## Celda 2: Configuración de Logging"
   ]
  },
  {
   "cell_type": "code",
   "execution_count": null,
   "metadata": {},
   "outputs": [],
   "source": [
    "# Configuramos el registro para mostrar información detallada durante la ejecución\n",
    "setup_logging(2)"
   ]
  },
  {
   "cell_type": "markdown",
   "metadata": {},
   "source": [
    "## Celda 3: Creación de la instancia EODataAccessGateway"
   ]
  },
  {
   "cell_type": "code",
   "execution_count": null,
   "metadata": {},
   "outputs": [],
   "source": [
    "# Creamos una instancia de EODataAccessGateway para manejar las operaciones de datos\n",
    "dag = EODataAccessGateway()"
   ]
  },
  {
   "cell_type": "markdown",
   "metadata": {},
   "source": [
    "## Celda 4: Configuración del proveedor de datos"
   ]
  },
  {
   "cell_type": "code",
   "execution_count": null,
   "metadata": {},
   "outputs": [],
   "source": [
    "# Establecemos el proveedor preferido para los datos de satélite\n",
    "dag.set_preferred_provider(\"cop_dataspace\")"
   ]
  },
  {
   "cell_type": "markdown",
   "metadata": {},
   "source": [
    "## Celda 5: Entrada de coordenadas"
   ]
  },
  {
   "cell_type": "code",
   "execution_count": null,
   "metadata": {},
   "outputs": [],
   "source": [
    "# Pedimos al usuario que ingrese las coordenadas manualmente\n",
    "# Formato sacado de https://geojson.io/ \n",
    "\n",
    "coordinates = [\n",
    "    [-71.61585623944886, -33.04283802364129],\n",
    "    [-71.61585623944886, -33.04719451892468],\n",
    "    [-71.60413501869623, -33.04719451892468],\n",
    "    [-71.60413501869623, -33.04283802364129],\n",
    "    [-71.61585623944886, -33.04283802364129]  # Cerrar el polígono repitiendo el primer punto\n",
    "]"
   ]
  },
  {
   "cell_type": "markdown",
   "metadata": {},
   "source": [
    "## Celda 6: Creación del polígono"
   ]
  },
  {
   "cell_type": "code",
   "execution_count": null,
   "metadata": {},
   "outputs": [],
   "source": [
    "# Creamos un polígono a partir de las coordenadas ingresadas\n",
    "roi_polygon = Polygon(coordinates)"
   ]
  },
  {
   "cell_type": "markdown",
   "metadata": {},
   "source": [
    "## Celda 7: Configuración de criterios de búsqueda"
   ]
  },
  {
   "cell_type": "code",
   "execution_count": null,
   "metadata": {},
   "outputs": [],
   "source": [
    "# Configuramos los criterios de búsqueda para los datos de satélite\n",
    "search_criteria = {\n",
    "    \"productType\": \"S2_MSI_L2A\",\n",
    "    \"start\": \"2022-01-01\",\n",
    "    \"end\": \"2023-03-01\",\n",
    "    \"geom\": roi_polygon\n",
    "}"
   ]
  },
  {
   "cell_type": "markdown",
   "metadata": {},
   "source": [
    "## Celda 8: Búsqueda de productos"
   ]
  },
  {
   "cell_type": "code",
   "execution_count": null,
   "metadata": {},
   "outputs": [],
   "source": [
    "# Realizamos la búsqueda de productos que coincidan con los criterios\n",
    "search_result = dag.search(**search_criteria)"
   ]
  },
  {
   "cell_type": "markdown",
   "metadata": {},
   "source": [
    "\n",
    "## Celda 9: Resultados de la búsqueda"
   ]
  },
  {
   "cell_type": "code",
   "execution_count": null,
   "metadata": {},
   "outputs": [],
   "source": [
    "# Imprimimos el tipo y contenido del resultado de búsqueda para depuración\n",
    "print(type(search_result))\n",
    "print(search_result)\n"
   ]
  },
  {
   "cell_type": "markdown",
   "metadata": {},
   "source": [
    "## Celda 10: Manejo de resultados"
   ]
  },
  {
   "cell_type": "code",
   "execution_count": null,
   "metadata": {},
   "outputs": [],
   "source": [
    "# Procesamos los resultados de la búsqueda, descargando los productos disponibles\n",
    "if search_result:\n",
    "    if isinstance(search_result, tuple):\n",
    "        products, estimated_total = search_result\n",
    "        if products:\n",
    "            for product in products:\n",
    "                if hasattr(product, 'location') and product.location.startswith(\"file:/\"):\n",
    "                    print(\"Local product detected. Download skipped\")\n",
    "                else:\n",
    "                    download_path = dag.download(product)\n",
    "                    print(f\"Descargado: {download_path}\")\n",
    "        else:\n",
    "            print(\"No products found.\")\n",
    "    else:\n",
    "        # Otro manejo si se espera otro tipo de objeto\n",
    "        pass\n",
    "else:\n",
    "    print(\"No results returned.\")"
   ]
  }
 ],
 "metadata": {
  "kernelspec": {
   "display_name": "fondecyt",
   "language": "python",
   "name": "python3"
  },
  "language_info": {
   "codemirror_mode": {
    "name": "ipython",
    "version": 3
   },
   "file_extension": ".py",
   "mimetype": "text/x-python",
   "name": "python",
   "nbconvert_exporter": "python",
   "pygments_lexer": "ipython3",
   "version": "3.12.2"
  }
 },
 "nbformat": 4,
 "nbformat_minor": 2
}
