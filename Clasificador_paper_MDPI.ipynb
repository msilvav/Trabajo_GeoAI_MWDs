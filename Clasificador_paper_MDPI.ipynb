{
 "cells": [
  {
   "cell_type": "code",
   "execution_count": null,
   "id": "27d36875",
   "metadata": {},
   "outputs": [],
   "source": [
    "pip install -q --upgrade torch hugsvision torchvision"
   ]
  },
  {
   "cell_type": "code",
   "execution_count": null,
   "id": "47acf8e6",
   "metadata": {},
   "outputs": [],
   "source": [
    "import torch\n",
    "print(torch.__version__)"
   ]
  },
  {
   "cell_type": "code",
   "execution_count": null,
   "id": "01f039c1",
   "metadata": {
    "scrolled": true
   },
   "outputs": [],
   "source": [
    "import hugsvision\n",
    "print(hugsvision.__version__)"
   ]
  },
  {
   "cell_type": "code",
   "execution_count": null,
   "id": "31401b6b",
   "metadata": {},
   "outputs": [],
   "source": [
    "import torchvision\n",
    "torchvision.__version__"
   ]
  },
  {
   "cell_type": "code",
   "execution_count": null,
   "id": "b91e4354",
   "metadata": {
    "scrolled": true
   },
   "outputs": [],
   "source": [
    "from hugsvision.dataio.VisionDataset import VisionDataset\n",
    "\n",
    "# Las clases se sacan del nombre de la carpeta\n",
    "\n",
    "train, test, id2label, label2id = VisionDataset.fromImageFolder(\n",
    "    \"./DB_SORTED_BY_TYPE\",\n",
    "    test_ratio   = 0.20,\n",
    "    balanced     = False,\n",
    "    augmentation = True,\n",
    ")"
   ]
  },
  {
   "cell_type": "code",
   "execution_count": null,
   "id": "04cb0914",
   "metadata": {},
   "outputs": [],
   "source": [
    "huggingface_model = 'google/vit-base-patch16-224-in21k'"
   ]
  },
  {
   "cell_type": "code",
   "execution_count": null,
   "id": "11d776ea",
   "metadata": {
    "scrolled": true
   },
   "outputs": [],
   "source": [
    "from transformers import ViTFeatureExtractor, ViTForImageClassification\n",
    "from hugsvision.nnet.VisionClassifierTrainer import VisionClassifierTrainer\n",
    "\n",
    "trainer = VisionClassifierTrainer(\n",
    "    model_name   = \"MWDTYPE\",\n",
    "    train      \t = train,\n",
    "    test      \t = test,\n",
    "    output_dir   = \"./out/\",\n",
    "    max_epochs   = 10,\n",
    "    batch_size   = 130,\n",
    "    lr=1e-3,\n",
    "    model = ViTForImageClassification.from_pretrained(\n",
    "        huggingface_model,\n",
    "        num_labels = len(label2id),\n",
    "        label2id   = label2id,\n",
    "        id2label   = id2label\n",
    "    ),\n",
    "    feature_extractor = ViTFeatureExtractor.from_pretrained(\n",
    "    huggingface_model),\n",
    ")"
   ]
  },
  {
   "cell_type": "code",
   "execution_count": null,
   "id": "c8227dfa",
   "metadata": {},
   "outputs": [],
   "source": [
    "model = ViTForImageClassification.from_pretrained(\n",
    "        huggingface_model,\n",
    "        num_labels = len(label2id),\n",
    "        label2id   = label2id,\n",
    "        id2label   = id2label,\n",
    "        )"
   ]
  },
  {
   "cell_type": "code",
   "execution_count": null,
   "id": "f06c0d85",
   "metadata": {
    "scrolled": true
   },
   "outputs": [],
   "source": [
    "ref, hyp = trainer.evaluate_f1_score()"
   ]
  },
  {
   "cell_type": "code",
   "execution_count": null,
   "id": "8565304b",
   "metadata": {
    "scrolled": true
   },
   "outputs": [],
   "source": [
    "import os.path\n",
    "from transformers import ViTFeatureExtractor, ViTForImageClassification\n",
    "from hugsvision.inference.VisionClassifierInference import VisionClassifierInference\n",
    "\n",
    "path = \"./out/MWDTYPE/5_2023-12-11-23-42-51/model\" ## apuntar donde está el modelo\n",
    "img  = \"/home/robotica10/nuevasEtiquetas/merged_noaug/train/0b83678a-22-251332213153766_-22-228191850263972_-68-93012286027773_-68-90529322107572_png.rf.744cc1f8fa65a2a76948aafe591d6a4c.jpg\" # imagen para hacer inferencia\n",
    "\n",
    "classifier = VisionClassifierInference(\n",
    "    feature_extractor = ViTFeatureExtractor.from_pretrained(path),\n",
    "    model = ViTForImageClassification.from_pretrained(path),\n",
    ")\n",
    "\n",
    "label = classifier.predict(img_path=img)\n",
    "print(\"Predicted class:\", label)"
   ]
  },
  {
   "cell_type": "code",
   "execution_count": null,
   "id": "34b6f592",
   "metadata": {},
   "outputs": [],
   "source": []
  },
  {
   "cell_type": "code",
   "execution_count": null,
   "id": "e2c1b994",
   "metadata": {},
   "outputs": [],
   "source": []
  },
  {
   "cell_type": "code",
   "execution_count": null,
   "id": "40d2fe53",
   "metadata": {},
   "outputs": [],
   "source": []
  }
 ],
 "metadata": {
  "kernelspec": {
   "display_name": "Python 3",
   "language": "python",
   "name": "python3"
  },
  "language_info": {
   "codemirror_mode": {
    "name": "ipython",
    "version": 3
   },
   "file_extension": ".py",
   "mimetype": "text/x-python",
   "name": "python",
   "nbconvert_exporter": "python",
   "pygments_lexer": "ipython3",
   "version": "3.6.13"
  }
 },
 "nbformat": 4,
 "nbformat_minor": 5
}
