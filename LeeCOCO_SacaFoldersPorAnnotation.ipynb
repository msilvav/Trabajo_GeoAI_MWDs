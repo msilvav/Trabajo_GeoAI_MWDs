{
 "cells": [
  {
   "cell_type": "code",
   "execution_count": 1,
   "metadata": {},
   "outputs": [],
   "source": [
    "import os\n",
    "import re\n",
    "import numpy as np\n",
    "import cv2\n",
    "from pycocotools.coco import COCO\n",
    "from PIL import Image\n",
    "from concurrent.futures import ThreadPoolExecutor, as_completed"
   ]
  },
  {
   "cell_type": "code",
   "execution_count": 2,
   "metadata": {},
   "outputs": [],
   "source": [
    "# Define la ruta de las imágenes y el archivo de anotaciones\n",
    "image_directory = '/media/manuel/Robotica 4T/bd_unificada/images'\n",
    "annotation_file = '/media/manuel/Robotica 4T/bd_unificada/combined.json'\n",
    "output_directory = '/media/manuel/Robotica 4T/DS_Confinamiento'\n"
   ]
  },
  {
   "cell_type": "code",
   "execution_count": 3,
   "metadata": {},
   "outputs": [
    {
     "name": "stdout",
     "output_type": "stream",
     "text": [
      "loading annotations into memory...\n",
      "Done (t=21.89s)\n",
      "creating index...\n",
      "index created!\n"
     ]
    }
   ],
   "source": [
    "# Instancia COCO\n",
    "coco = COCO(annotation_file)"
   ]
  },
  {
   "cell_type": "code",
   "execution_count": 4,
   "metadata": {},
   "outputs": [],
   "source": [
    "# Crea las carpetas de salida si no existen\n",
    "os.makedirs(output_directory, exist_ok=True)\n",
    "for category in coco.loadCats(coco.getCatIds()):\n",
    "    class_name = category['name']\n",
    "    os.makedirs(os.path.join(output_directory, class_name), exist_ok=True)"
   ]
  },
  {
   "cell_type": "code",
   "execution_count": 5,
   "metadata": {},
   "outputs": [],
   "source": [
    "def extract_coordinates_and_dates(filename):\n",
    "    # Utiliza expresiones regulares para extraer las coordenadas y fechas\n",
    "    pattern = r\"\\[([^\\]]+)\\] - \\('([^']+)', '([^']+)'\\)\"\n",
    "    match = re.search(pattern, filename)\n",
    "    if match:\n",
    "        coords = match.group(1)\n",
    "        date_range = match.group(2), match.group(3)\n",
    "        return coords, date_range\n",
    "    return None, None\n",
    "\n",
    "def calculate_step(coords, img_width, img_height):\n",
    "    # Convierte las coordenadas en una lista de floats\n",
    "    lat_min, lon_min, lat_max, lon_max = map(float, coords.split(', '))\n",
    "    \n",
    "    # Calcula el paso en grados por pixel\n",
    "    lat_step = (lat_max - lat_min) / img_height\n",
    "    lon_step = (lon_max - lon_min) / img_width\n",
    "    \n",
    "    return lat_step, lon_step, lat_min, lon_min\n",
    "\n",
    "def calculate_bbox_coordinates(lat_step, lon_step, lat_min, lon_min, bbox):\n",
    "    # Extrae las coordenadas del bbox\n",
    "    x, y, w, h = bbox\n",
    "    \n",
    "    # Calcula las coordenadas del bbox en grados\n",
    "    new_lat_min = lat_min + y * lat_step\n",
    "    new_lon_min = lon_min + x * lon_step\n",
    "    new_lat_max = new_lat_min + h * lat_step\n",
    "    new_lon_max = new_lon_min + w * lon_step\n",
    "    \n",
    "    return f\"[{new_lat_min:.5f}, {new_lon_min:.5f}, {new_lat_max:.5f}, {new_lon_max:.5f}]\"\n",
    "\n",
    "# Lista para almacenar los nombres de los archivos generados\n",
    "exported_filenames = []\n",
    "\n",
    "def process_image(image_id):\n",
    "    # Cargar la imagen\n",
    "    img_info = coco.loadImgs(image_id)[0]\n",
    "    img_path = os.path.join(image_directory, img_info['file_name'])\n",
    "    img = cv2.imread(img_path)\n",
    "    \n",
    "    # Extraer coordenadas y rango de fechas del nombre del archivo original\n",
    "    coords, date_range = extract_coordinates_and_dates(img_info['file_name'])\n",
    "    if not coords or not date_range:\n",
    "        print(f\"Error al extraer datos del nombre del archivo: {img_info['file_name']}\")\n",
    "        return\n",
    "    \n",
    "    # Calcular el paso en grados por pixel\n",
    "    lat_step, lon_step, lat_min, lon_min = calculate_step(coords, img.shape[1], img.shape[0])\n",
    "    \n",
    "    # Obtener las anotaciones de la imagen\n",
    "    ann_ids = coco.getAnnIds(imgIds=image_id)\n",
    "    anns = coco.loadAnns(ann_ids)\n",
    "\n",
    "    for ann in anns:\n",
    "        bbox = ann['bbox']\n",
    "        class_id = ann['category_id']\n",
    "        class_name = coco.loadCats(class_id)[0]['name']\n",
    "        \n",
    "        # Calcular las nuevas coordenadas del bbox\n",
    "        new_coords = calculate_bbox_coordinates(lat_step, lon_step, lat_min, lon_min, bbox)\n",
    "        \n",
    "        # Extraer la bbox de la imagen\n",
    "        x, y, w, h = map(int, bbox)\n",
    "        bbox_img = img[y:y+h, x:x+w]\n",
    "        \n",
    "        # Generar el nombre del archivo con el formato especificado\n",
    "        unique_id = f\"{class_name}_{new_coords} - ('{date_range[0]}', '{date_range[1]}').png\"\n",
    "        output_path = os.path.join(output_directory, class_name, unique_id)\n",
    "        \n",
    "        # Guardar la imagen bbox\n",
    "        cv2.imwrite(output_path, bbox_img)\n",
    "        \n",
    "        # Almacenar el nombre del archivo generado\n",
    "        exported_filenames.append(unique_id)\n",
    "\n",
    "# Obtener todos los IDs de las imágenes\n",
    "image_ids = coco.getImgIds()\n",
    "\n",
    "\n"
   ]
  },
  {
   "cell_type": "code",
   "execution_count": 6,
   "metadata": {},
   "outputs": [
    {
     "name": "stdout",
     "output_type": "stream",
     "text": [
      "Error procesando la imagen ID 20693: OpenCV(4.6.0) /io/opencv/modules/imgcodecs/src/loadsave.cpp:801: error: (-215:Assertion failed) !_img.empty() in function 'imwrite'\n",
      "\n",
      "Procesamiento completado.\n"
     ]
    }
   ],
   "source": [
    "# Usar ThreadPoolExecutor para gestionar la concurrencia\n",
    "num_threads = 4  # Ajusta este número según las capacidades de tu sistema\n",
    "with ThreadPoolExecutor(max_workers=num_threads) as executor:\n",
    "    # Enviar todas las tareas al ejecutor\n",
    "    futures = {executor.submit(process_image, image_id): image_id for image_id in image_ids}\n",
    "    \n",
    "    # Esperar a que todas las tareas terminen\n",
    "    for future in as_completed(futures):\n",
    "        image_id = futures[future]\n",
    "        try:\n",
    "            future.result()  # Aquí podrías manejar el resultado si es necesario\n",
    "        except Exception as e:\n",
    "            print(f\"Error procesando la imagen ID {image_id}: {e}\")\n",
    "\n",
    "print(\"Procesamiento completado.\")"
   ]
  },
  {
   "cell_type": "code",
   "execution_count": null,
   "metadata": {},
   "outputs": [],
   "source": [
    "# Crear threads para procesar las imágenes en paralelo\n",
    "threads = []\n",
    "for image_id in image_ids:\n",
    "    thread = threading.Thread(target=process_image, args=(image_id,))\n",
    "    threads.append(thread)\n",
    "    thread.start()\n",
    "\n",
    "# Esperar a que todos los threads terminen\n",
    "for thread in threads:\n",
    "    thread.join()\n",
    "\n",
    "# Imprimir los nombres de los archivos generados\n",
    "for filename in exported_filenames:\n",
    "    print(filename)\n",
    "\n",
    "print(\"Procesamiento completado.\")"
   ]
  }
 ],
 "metadata": {
  "kernelspec": {
   "display_name": "torchgeo",
   "language": "python",
   "name": "python3"
  },
  "language_info": {
   "codemirror_mode": {
    "name": "ipython",
    "version": 3
   },
   "file_extension": ".py",
   "mimetype": "text/x-python",
   "name": "python",
   "nbconvert_exporter": "python",
   "pygments_lexer": "ipython3",
   "version": "3.9.13"
  }
 },
 "nbformat": 4,
 "nbformat_minor": 2
}
